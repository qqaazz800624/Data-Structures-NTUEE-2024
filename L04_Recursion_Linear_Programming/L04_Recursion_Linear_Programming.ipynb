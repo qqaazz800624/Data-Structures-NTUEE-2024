{
 "cells": [
  {
   "cell_type": "markdown",
   "metadata": {},
   "source": [
    "# Recursion and Dynamic Programming\n",
    "\n",
    "## Objectives\n",
    "\n",
    "* To understand that complex problems that may otherwise be difficult to solve may have a simple recursive solution.\n",
    "* To learn how to formulate programs recursively.\n",
    "* To understand and apply the three laws of recursion.\n",
    "* To understand recursion as a form of iteration.\n",
    "* To implement the recursive formulation of a problem.\n",
    "* To understand how recursion is implemented by a computer system.\n",
    "\n",
    "## What Is Recursion?\n",
    "\n",
    "* A recursive algorithm must have a **base case**.\n",
    "  + A base case is when the algorithm stops recursing, typically a problem that is small enough to solve directly.\n",
    "* A recursive algorithm must change its state and move toward the base case.\n",
    "  + Reduce the problem size.\n",
    "* A recursive algorithm must call itself, recursively.\n",
    "  + Elegant solutions to difficult problems by breaking it down into smaller and easier problems.\n",
    "  + Divid and conquer!\n",
    "  \n",
    "***Example: Calculating the Sum of a List of Numbers***"
   ]
  },
  {
   "cell_type": "code",
   "execution_count": 1,
   "metadata": {},
   "outputs": [
    {
     "name": "stdout",
     "output_type": "stream",
     "text": [
      "25\n"
     ]
    }
   ],
   "source": [
    "# Sum of list: Iterative version\n",
    "def listsum(numList):\n",
    "    theSum = 0\n",
    "    for i in numList:\n",
    "        theSum = theSum + i\n",
    "    return theSum\n",
    "\n",
    "print(listsum([1,3,5,7,9]))"
   ]
  },
  {
   "cell_type": "code",
   "execution_count": 2,
   "metadata": {},
   "outputs": [
    {
     "name": "stdout",
     "output_type": "stream",
     "text": [
      "25\n"
     ]
    }
   ],
   "source": [
    "# Sum of list: Recursive version\n",
    "def listsum(numList):\n",
    "    if len(numList) == 1:\n",
    "        return numList[0]   # Base case\n",
    "    else:\n",
    "        return numList[0] + listsum(numList[1:])  # Reduce problem size\n",
    "\n",
    "print(listsum([1,3,5,7,9]))"
   ]
  },
  {
   "cell_type": "markdown",
   "metadata": {},
   "source": [
    "The series of **recursive calls** to `listsum` is a series of simplifications, until we reach the point where the problem cannot get any smaller (i.e., base case).\n",
    "\n",
    "<img src=\"figures/list_sum_recursive_calls.jpg\">\n",
    "\n",
    "After reaching the base case, we piece together the solutions of the smaller problems until the initial problem is solved. \n",
    "\n",
    "<img src=\"figures/list_sum_glue_solutions.jpg\">\n",
    "\n",
    "***Example: Converting an Integer to a String in Any Base***"
   ]
  },
  {
   "cell_type": "code",
   "execution_count": 3,
   "metadata": {},
   "outputs": [
    {
     "name": "stdout",
     "output_type": "stream",
     "text": [
      "10 (Base 10) = 1010 (Base 2)\n",
      "12221 (Base 10) = 2FBD (Base 16)\n"
     ]
    }
   ],
   "source": [
    "def toStr(n,base):\n",
    "    convertString = \"0123456789ABCDEF\"\n",
    "    if n < base:\n",
    "        return convertString[n]\n",
    "    else:\n",
    "        return toStr(n//base,base) + convertString[n%base]\n",
    "\n",
    "print(\"%d (Base 10) = %s (Base %d)\"%(10, toStr(10,2), 2))\n",
    "print(\"%d (Base 10) = %s (Base %d)\"%(12221, toStr(12221,16), 16))"
   ]
  },
  {
   "cell_type": "markdown",
   "metadata": {},
   "source": [
    "<img src=\"figures/change_base_recursive_calls.jpg\">\n",
    "\n",
    "## Stack Frames: Implementing Recursion\n",
    "\n",
    "When a function is called in Python, a **stack frame** is allocated to handle the local variables of the function. When the function returns, the return value is left on top of the stack for the calling function to access.\n",
    "\n",
    "<img src=\"figures/stack_frame.jpg\">\n",
    "\n",
    "## Introduction: Visualizing Recursion\n",
    "*** Example: Draw Spiral***"
   ]
  },
  {
   "cell_type": "code",
   "execution_count": 11,
   "metadata": {},
   "outputs": [],
   "source": [
    "import turtle\n",
    "\n",
    "myTurtle = turtle.Turtle()\n",
    "myWin = turtle.Screen()\n",
    "\n",
    "def drawSpiral(myTurtle, lineLen):\n",
    "    if lineLen > 0:\n",
    "        myTurtle.forward(lineLen)\n",
    "        myTurtle.right(90)\n",
    "        drawSpiral(myTurtle,lineLen-5)\n",
    "\n",
    "drawSpiral(myTurtle,100)\n",
    "myWin.exitonclick()"
   ]
  },
  {
   "cell_type": "markdown",
   "metadata": {},
   "source": [
    "***Example: Draw fractals***\n",
    "\n",
    "* Fractal has the same basic shape no matter how much you magnify it.\n",
    "\n",
    "<img src=\"figures/fractals.jpg\">"
   ]
  },
  {
   "cell_type": "code",
   "execution_count": 15,
   "metadata": {
    "scrolled": true
   },
   "outputs": [],
   "source": [
    "import turtle\n",
    "\n",
    "def tree(branchLen,t):\n",
    "    if branchLen > 2:\n",
    "        t.forward(branchLen)\n",
    "        t.right(20)\n",
    "        tree(branchLen-6,t)\n",
    "        t.left(40)\n",
    "        tree(branchLen-6,t)\n",
    "        t.right(20)\n",
    "        t.backward(branchLen)\n",
    "\n",
    "def main():\n",
    "    t = turtle.Turtle()\n",
    "    myWin = turtle.Screen()\n",
    "    t.left(90)\n",
    "    t.up()\n",
    "    t.backward(100)\n",
    "    t.down()\n",
    "    t.color(\"green\")\n",
    "    tree(45,t)\n",
    "    myWin.exitonclick()\n",
    "\n",
    "main()"
   ]
  },
  {
   "cell_type": "markdown",
   "metadata": {},
   "source": [
    "What is the time complexity?\n",
    "\n",
    "***Example: Sierpinski Triangle***\n",
    "\n",
    "<img src=\"figures/SierpinskiTriangle.jpg\">"
   ]
  },
  {
   "cell_type": "code",
   "execution_count": 19,
   "metadata": {},
   "outputs": [
    {
     "ename": "TclError",
     "evalue": "invalid command name \".!canvas\"",
     "output_type": "error",
     "traceback": [
      "\u001b[1;31m---------------------------------------------------------------------------\u001b[0m",
      "\u001b[1;31mTclError\u001b[0m                                  Traceback (most recent call last)",
      "\u001b[1;32m<ipython-input-19-e7cadbef5b57>\u001b[0m in \u001b[0;36m<module>\u001b[1;34m\u001b[0m\n\u001b[0;32m     41\u001b[0m     \u001b[0mmyWin\u001b[0m\u001b[1;33m.\u001b[0m\u001b[0mexitonclick\u001b[0m\u001b[1;33m(\u001b[0m\u001b[1;33m)\u001b[0m\u001b[1;33m\u001b[0m\u001b[0m\n\u001b[0;32m     42\u001b[0m \u001b[1;33m\u001b[0m\u001b[0m\n\u001b[1;32m---> 43\u001b[1;33m \u001b[0mmain\u001b[0m\u001b[1;33m(\u001b[0m\u001b[1;33m)\u001b[0m\u001b[1;33m\u001b[0m\u001b[0m\n\u001b[0m",
      "\u001b[1;32m<ipython-input-19-e7cadbef5b57>\u001b[0m in \u001b[0;36mmain\u001b[1;34m()\u001b[0m\n\u001b[0;32m     38\u001b[0m     \u001b[0mmyWin\u001b[0m \u001b[1;33m=\u001b[0m \u001b[0mturtle\u001b[0m\u001b[1;33m.\u001b[0m\u001b[0mScreen\u001b[0m\u001b[1;33m(\u001b[0m\u001b[1;33m)\u001b[0m\u001b[1;33m\u001b[0m\u001b[0m\n\u001b[0;32m     39\u001b[0m     \u001b[0mmyPoints\u001b[0m \u001b[1;33m=\u001b[0m \u001b[1;33m[\u001b[0m\u001b[1;33m[\u001b[0m\u001b[1;33m-\u001b[0m\u001b[1;36m100\u001b[0m\u001b[1;33m,\u001b[0m\u001b[1;33m-\u001b[0m\u001b[1;36m50\u001b[0m\u001b[1;33m]\u001b[0m\u001b[1;33m,\u001b[0m\u001b[1;33m[\u001b[0m\u001b[1;36m0\u001b[0m\u001b[1;33m,\u001b[0m\u001b[1;36m100\u001b[0m\u001b[1;33m]\u001b[0m\u001b[1;33m,\u001b[0m\u001b[1;33m[\u001b[0m\u001b[1;36m100\u001b[0m\u001b[1;33m,\u001b[0m\u001b[1;33m-\u001b[0m\u001b[1;36m50\u001b[0m\u001b[1;33m]\u001b[0m\u001b[1;33m]\u001b[0m\u001b[1;33m\u001b[0m\u001b[0m\n\u001b[1;32m---> 40\u001b[1;33m     \u001b[0msierpinski\u001b[0m\u001b[1;33m(\u001b[0m\u001b[0mmyPoints\u001b[0m\u001b[1;33m,\u001b[0m\u001b[1;36m5\u001b[0m\u001b[1;33m,\u001b[0m\u001b[0mmyTurtle\u001b[0m\u001b[1;33m)\u001b[0m\u001b[1;33m\u001b[0m\u001b[0m\n\u001b[0m\u001b[0;32m     41\u001b[0m     \u001b[0mmyWin\u001b[0m\u001b[1;33m.\u001b[0m\u001b[0mexitonclick\u001b[0m\u001b[1;33m(\u001b[0m\u001b[1;33m)\u001b[0m\u001b[1;33m\u001b[0m\u001b[0m\n\u001b[0;32m     42\u001b[0m \u001b[1;33m\u001b[0m\u001b[0m\n",
      "\u001b[1;32m<ipython-input-19-e7cadbef5b57>\u001b[0m in \u001b[0;36msierpinski\u001b[1;34m(points, degree, myTurtle)\u001b[0m\n\u001b[0;32m     27\u001b[0m                         \u001b[0mgetMid\u001b[0m\u001b[1;33m(\u001b[0m\u001b[0mpoints\u001b[0m\u001b[1;33m[\u001b[0m\u001b[1;36m0\u001b[0m\u001b[1;33m]\u001b[0m\u001b[1;33m,\u001b[0m \u001b[0mpoints\u001b[0m\u001b[1;33m[\u001b[0m\u001b[1;36m1\u001b[0m\u001b[1;33m]\u001b[0m\u001b[1;33m)\u001b[0m\u001b[1;33m,\u001b[0m\u001b[1;33m\u001b[0m\u001b[0m\n\u001b[0;32m     28\u001b[0m                         getMid(points[1], points[2])],\n\u001b[1;32m---> 29\u001b[1;33m                    degree-1, myTurtle)\n\u001b[0m\u001b[0;32m     30\u001b[0m         sierpinski([points[2],\n\u001b[0;32m     31\u001b[0m                         \u001b[0mgetMid\u001b[0m\u001b[1;33m(\u001b[0m\u001b[0mpoints\u001b[0m\u001b[1;33m[\u001b[0m\u001b[1;36m2\u001b[0m\u001b[1;33m]\u001b[0m\u001b[1;33m,\u001b[0m \u001b[0mpoints\u001b[0m\u001b[1;33m[\u001b[0m\u001b[1;36m1\u001b[0m\u001b[1;33m]\u001b[0m\u001b[1;33m)\u001b[0m\u001b[1;33m,\u001b[0m\u001b[1;33m\u001b[0m\u001b[0m\n",
      "\u001b[1;32m<ipython-input-19-e7cadbef5b57>\u001b[0m in \u001b[0;36msierpinski\u001b[1;34m(points, degree, myTurtle)\u001b[0m\n\u001b[0;32m     27\u001b[0m                         \u001b[0mgetMid\u001b[0m\u001b[1;33m(\u001b[0m\u001b[0mpoints\u001b[0m\u001b[1;33m[\u001b[0m\u001b[1;36m0\u001b[0m\u001b[1;33m]\u001b[0m\u001b[1;33m,\u001b[0m \u001b[0mpoints\u001b[0m\u001b[1;33m[\u001b[0m\u001b[1;36m1\u001b[0m\u001b[1;33m]\u001b[0m\u001b[1;33m)\u001b[0m\u001b[1;33m,\u001b[0m\u001b[1;33m\u001b[0m\u001b[0m\n\u001b[0;32m     28\u001b[0m                         getMid(points[1], points[2])],\n\u001b[1;32m---> 29\u001b[1;33m                    degree-1, myTurtle)\n\u001b[0m\u001b[0;32m     30\u001b[0m         sierpinski([points[2],\n\u001b[0;32m     31\u001b[0m                         \u001b[0mgetMid\u001b[0m\u001b[1;33m(\u001b[0m\u001b[0mpoints\u001b[0m\u001b[1;33m[\u001b[0m\u001b[1;36m2\u001b[0m\u001b[1;33m]\u001b[0m\u001b[1;33m,\u001b[0m \u001b[0mpoints\u001b[0m\u001b[1;33m[\u001b[0m\u001b[1;36m1\u001b[0m\u001b[1;33m]\u001b[0m\u001b[1;33m)\u001b[0m\u001b[1;33m,\u001b[0m\u001b[1;33m\u001b[0m\u001b[0m\n",
      "\u001b[1;32m<ipython-input-19-e7cadbef5b57>\u001b[0m in \u001b[0;36msierpinski\u001b[1;34m(points, degree, myTurtle)\u001b[0m\n\u001b[0;32m     31\u001b[0m                         \u001b[0mgetMid\u001b[0m\u001b[1;33m(\u001b[0m\u001b[0mpoints\u001b[0m\u001b[1;33m[\u001b[0m\u001b[1;36m2\u001b[0m\u001b[1;33m]\u001b[0m\u001b[1;33m,\u001b[0m \u001b[0mpoints\u001b[0m\u001b[1;33m[\u001b[0m\u001b[1;36m1\u001b[0m\u001b[1;33m]\u001b[0m\u001b[1;33m)\u001b[0m\u001b[1;33m,\u001b[0m\u001b[1;33m\u001b[0m\u001b[0m\n\u001b[0;32m     32\u001b[0m                         getMid(points[0], points[2])],\n\u001b[1;32m---> 33\u001b[1;33m                    degree-1, myTurtle)\n\u001b[0m\u001b[0;32m     34\u001b[0m \u001b[1;33m\u001b[0m\u001b[0m\n\u001b[0;32m     35\u001b[0m \u001b[1;32mdef\u001b[0m \u001b[0mmain\u001b[0m\u001b[1;33m(\u001b[0m\u001b[1;33m)\u001b[0m\u001b[1;33m:\u001b[0m\u001b[1;33m\u001b[0m\u001b[0m\n",
      "\u001b[1;32m<ipython-input-19-e7cadbef5b57>\u001b[0m in \u001b[0;36msierpinski\u001b[1;34m(points, degree, myTurtle)\u001b[0m\n\u001b[0;32m     31\u001b[0m                         \u001b[0mgetMid\u001b[0m\u001b[1;33m(\u001b[0m\u001b[0mpoints\u001b[0m\u001b[1;33m[\u001b[0m\u001b[1;36m2\u001b[0m\u001b[1;33m]\u001b[0m\u001b[1;33m,\u001b[0m \u001b[0mpoints\u001b[0m\u001b[1;33m[\u001b[0m\u001b[1;36m1\u001b[0m\u001b[1;33m]\u001b[0m\u001b[1;33m)\u001b[0m\u001b[1;33m,\u001b[0m\u001b[1;33m\u001b[0m\u001b[0m\n\u001b[0;32m     32\u001b[0m                         getMid(points[0], points[2])],\n\u001b[1;32m---> 33\u001b[1;33m                    degree-1, myTurtle)\n\u001b[0m\u001b[0;32m     34\u001b[0m \u001b[1;33m\u001b[0m\u001b[0m\n\u001b[0;32m     35\u001b[0m \u001b[1;32mdef\u001b[0m \u001b[0mmain\u001b[0m\u001b[1;33m(\u001b[0m\u001b[1;33m)\u001b[0m\u001b[1;33m:\u001b[0m\u001b[1;33m\u001b[0m\u001b[0m\n",
      "\u001b[1;32m<ipython-input-19-e7cadbef5b57>\u001b[0m in \u001b[0;36msierpinski\u001b[1;34m(points, degree, myTurtle)\u001b[0m\n\u001b[0;32m     27\u001b[0m                         \u001b[0mgetMid\u001b[0m\u001b[1;33m(\u001b[0m\u001b[0mpoints\u001b[0m\u001b[1;33m[\u001b[0m\u001b[1;36m0\u001b[0m\u001b[1;33m]\u001b[0m\u001b[1;33m,\u001b[0m \u001b[0mpoints\u001b[0m\u001b[1;33m[\u001b[0m\u001b[1;36m1\u001b[0m\u001b[1;33m]\u001b[0m\u001b[1;33m)\u001b[0m\u001b[1;33m,\u001b[0m\u001b[1;33m\u001b[0m\u001b[0m\n\u001b[0;32m     28\u001b[0m                         getMid(points[1], points[2])],\n\u001b[1;32m---> 29\u001b[1;33m                    degree-1, myTurtle)\n\u001b[0m\u001b[0;32m     30\u001b[0m         sierpinski([points[2],\n\u001b[0;32m     31\u001b[0m                         \u001b[0mgetMid\u001b[0m\u001b[1;33m(\u001b[0m\u001b[0mpoints\u001b[0m\u001b[1;33m[\u001b[0m\u001b[1;36m2\u001b[0m\u001b[1;33m]\u001b[0m\u001b[1;33m,\u001b[0m \u001b[0mpoints\u001b[0m\u001b[1;33m[\u001b[0m\u001b[1;36m1\u001b[0m\u001b[1;33m]\u001b[0m\u001b[1;33m)\u001b[0m\u001b[1;33m,\u001b[0m\u001b[1;33m\u001b[0m\u001b[0m\n",
      "\u001b[1;32m<ipython-input-19-e7cadbef5b57>\u001b[0m in \u001b[0;36msierpinski\u001b[1;34m(points, degree, myTurtle)\u001b[0m\n\u001b[0;32m     18\u001b[0m     colormap = ['blue','red','green','white','yellow',\n\u001b[0;32m     19\u001b[0m                 'violet','orange']\n\u001b[1;32m---> 20\u001b[1;33m     \u001b[0mdrawTriangle\u001b[0m\u001b[1;33m(\u001b[0m\u001b[0mpoints\u001b[0m\u001b[1;33m,\u001b[0m\u001b[0mcolormap\u001b[0m\u001b[1;33m[\u001b[0m\u001b[0mdegree\u001b[0m\u001b[1;33m]\u001b[0m\u001b[1;33m,\u001b[0m\u001b[0mmyTurtle\u001b[0m\u001b[1;33m)\u001b[0m\u001b[1;33m\u001b[0m\u001b[0m\n\u001b[0m\u001b[0;32m     21\u001b[0m     \u001b[1;32mif\u001b[0m \u001b[0mdegree\u001b[0m \u001b[1;33m>\u001b[0m \u001b[1;36m0\u001b[0m\u001b[1;33m:\u001b[0m\u001b[1;33m\u001b[0m\u001b[0m\n\u001b[0;32m     22\u001b[0m         sierpinski([points[0],\n",
      "\u001b[1;32m<ipython-input-19-e7cadbef5b57>\u001b[0m in \u001b[0;36mdrawTriangle\u001b[1;34m(points, color, myTurtle)\u001b[0m\n\u001b[0;32m     10\u001b[0m     \u001b[0mmyTurtle\u001b[0m\u001b[1;33m.\u001b[0m\u001b[0mgoto\u001b[0m\u001b[1;33m(\u001b[0m\u001b[0mpoints\u001b[0m\u001b[1;33m[\u001b[0m\u001b[1;36m2\u001b[0m\u001b[1;33m]\u001b[0m\u001b[1;33m[\u001b[0m\u001b[1;36m0\u001b[0m\u001b[1;33m]\u001b[0m\u001b[1;33m,\u001b[0m\u001b[0mpoints\u001b[0m\u001b[1;33m[\u001b[0m\u001b[1;36m2\u001b[0m\u001b[1;33m]\u001b[0m\u001b[1;33m[\u001b[0m\u001b[1;36m1\u001b[0m\u001b[1;33m]\u001b[0m\u001b[1;33m)\u001b[0m\u001b[1;33m\u001b[0m\u001b[0m\n\u001b[0;32m     11\u001b[0m     \u001b[0mmyTurtle\u001b[0m\u001b[1;33m.\u001b[0m\u001b[0mgoto\u001b[0m\u001b[1;33m(\u001b[0m\u001b[0mpoints\u001b[0m\u001b[1;33m[\u001b[0m\u001b[1;36m0\u001b[0m\u001b[1;33m]\u001b[0m\u001b[1;33m[\u001b[0m\u001b[1;36m0\u001b[0m\u001b[1;33m]\u001b[0m\u001b[1;33m,\u001b[0m\u001b[0mpoints\u001b[0m\u001b[1;33m[\u001b[0m\u001b[1;36m0\u001b[0m\u001b[1;33m]\u001b[0m\u001b[1;33m[\u001b[0m\u001b[1;36m1\u001b[0m\u001b[1;33m]\u001b[0m\u001b[1;33m)\u001b[0m\u001b[1;33m\u001b[0m\u001b[0m\n\u001b[1;32m---> 12\u001b[1;33m     \u001b[0mmyTurtle\u001b[0m\u001b[1;33m.\u001b[0m\u001b[0mend_fill\u001b[0m\u001b[1;33m(\u001b[0m\u001b[1;33m)\u001b[0m\u001b[1;33m\u001b[0m\u001b[0m\n\u001b[0m\u001b[0;32m     13\u001b[0m \u001b[1;33m\u001b[0m\u001b[0m\n\u001b[0;32m     14\u001b[0m \u001b[1;32mdef\u001b[0m \u001b[0mgetMid\u001b[0m\u001b[1;33m(\u001b[0m\u001b[0mp1\u001b[0m\u001b[1;33m,\u001b[0m\u001b[0mp2\u001b[0m\u001b[1;33m)\u001b[0m\u001b[1;33m:\u001b[0m\u001b[1;33m\u001b[0m\u001b[0m\n",
      "\u001b[1;32mC:\\ProgramData\\Anaconda3\\lib\\turtle.py\u001b[0m in \u001b[0;36mend_fill\u001b[1;34m(self)\u001b[0m\n\u001b[0;32m   3343\u001b[0m             \u001b[1;32mif\u001b[0m \u001b[0mlen\u001b[0m\u001b[1;33m(\u001b[0m\u001b[0mself\u001b[0m\u001b[1;33m.\u001b[0m\u001b[0m_fillpath\u001b[0m\u001b[1;33m)\u001b[0m \u001b[1;33m>\u001b[0m \u001b[1;36m2\u001b[0m\u001b[1;33m:\u001b[0m\u001b[1;33m\u001b[0m\u001b[0m\n\u001b[0;32m   3344\u001b[0m                 self.screen._drawpoly(self._fillitem, self._fillpath,\n\u001b[1;32m-> 3345\u001b[1;33m                                       fill=self._fillcolor)\n\u001b[0m\u001b[0;32m   3346\u001b[0m                 \u001b[1;32mif\u001b[0m \u001b[0mself\u001b[0m\u001b[1;33m.\u001b[0m\u001b[0mundobuffer\u001b[0m\u001b[1;33m:\u001b[0m\u001b[1;33m\u001b[0m\u001b[0m\n\u001b[0;32m   3347\u001b[0m                     \u001b[0mself\u001b[0m\u001b[1;33m.\u001b[0m\u001b[0mundobuffer\u001b[0m\u001b[1;33m.\u001b[0m\u001b[0mpush\u001b[0m\u001b[1;33m(\u001b[0m\u001b[1;33m(\u001b[0m\u001b[1;34m\"dofill\"\u001b[0m\u001b[1;33m,\u001b[0m \u001b[0mself\u001b[0m\u001b[1;33m.\u001b[0m\u001b[0m_fillitem\u001b[0m\u001b[1;33m)\u001b[0m\u001b[1;33m)\u001b[0m\u001b[1;33m\u001b[0m\u001b[0m\n",
      "\u001b[1;32mC:\\ProgramData\\Anaconda3\\lib\\turtle.py\u001b[0m in \u001b[0;36m_drawpoly\u001b[1;34m(self, polyitem, coordlist, fill, outline, width, top)\u001b[0m\n\u001b[0;32m    512\u001b[0m             \u001b[0mcl\u001b[0m\u001b[1;33m.\u001b[0m\u001b[0mappend\u001b[0m\u001b[1;33m(\u001b[0m\u001b[0mx\u001b[0m \u001b[1;33m*\u001b[0m \u001b[0mself\u001b[0m\u001b[1;33m.\u001b[0m\u001b[0mxscale\u001b[0m\u001b[1;33m)\u001b[0m\u001b[1;33m\u001b[0m\u001b[0m\n\u001b[0;32m    513\u001b[0m             \u001b[0mcl\u001b[0m\u001b[1;33m.\u001b[0m\u001b[0mappend\u001b[0m\u001b[1;33m(\u001b[0m\u001b[1;33m-\u001b[0m\u001b[0my\u001b[0m \u001b[1;33m*\u001b[0m \u001b[0mself\u001b[0m\u001b[1;33m.\u001b[0m\u001b[0myscale\u001b[0m\u001b[1;33m)\u001b[0m\u001b[1;33m\u001b[0m\u001b[0m\n\u001b[1;32m--> 514\u001b[1;33m         \u001b[0mself\u001b[0m\u001b[1;33m.\u001b[0m\u001b[0mcv\u001b[0m\u001b[1;33m.\u001b[0m\u001b[0mcoords\u001b[0m\u001b[1;33m(\u001b[0m\u001b[0mpolyitem\u001b[0m\u001b[1;33m,\u001b[0m \u001b[1;33m*\u001b[0m\u001b[0mcl\u001b[0m\u001b[1;33m)\u001b[0m\u001b[1;33m\u001b[0m\u001b[0m\n\u001b[0m\u001b[0;32m    515\u001b[0m         \u001b[1;32mif\u001b[0m \u001b[0mfill\u001b[0m \u001b[1;32mis\u001b[0m \u001b[1;32mnot\u001b[0m \u001b[1;32mNone\u001b[0m\u001b[1;33m:\u001b[0m\u001b[1;33m\u001b[0m\u001b[0m\n\u001b[0;32m    516\u001b[0m             \u001b[0mself\u001b[0m\u001b[1;33m.\u001b[0m\u001b[0mcv\u001b[0m\u001b[1;33m.\u001b[0m\u001b[0mitemconfigure\u001b[0m\u001b[1;33m(\u001b[0m\u001b[0mpolyitem\u001b[0m\u001b[1;33m,\u001b[0m \u001b[0mfill\u001b[0m\u001b[1;33m=\u001b[0m\u001b[0mfill\u001b[0m\u001b[1;33m)\u001b[0m\u001b[1;33m\u001b[0m\u001b[0m\n",
      "\u001b[1;32m<string>\u001b[0m in \u001b[0;36mcoords\u001b[1;34m(self, *args, **kw)\u001b[0m\n",
      "\u001b[1;32mC:\\ProgramData\\Anaconda3\\lib\\tkinter\\__init__.py\u001b[0m in \u001b[0;36mcoords\u001b[1;34m(self, *args)\u001b[0m\n\u001b[0;32m   2464\u001b[0m         return [self.tk.getdouble(x) for x in\n\u001b[0;32m   2465\u001b[0m                            self.tk.splitlist(\n\u001b[1;32m-> 2466\u001b[1;33m                    self.tk.call((self._w, 'coords') + args))]\n\u001b[0m\u001b[0;32m   2467\u001b[0m     \u001b[1;32mdef\u001b[0m \u001b[0m_create\u001b[0m\u001b[1;33m(\u001b[0m\u001b[0mself\u001b[0m\u001b[1;33m,\u001b[0m \u001b[0mitemType\u001b[0m\u001b[1;33m,\u001b[0m \u001b[0margs\u001b[0m\u001b[1;33m,\u001b[0m \u001b[0mkw\u001b[0m\u001b[1;33m)\u001b[0m\u001b[1;33m:\u001b[0m \u001b[1;31m# Args: (val, val, ..., cnf={})\u001b[0m\u001b[1;33m\u001b[0m\u001b[0m\n\u001b[0;32m   2468\u001b[0m         \u001b[1;34m\"\"\"Internal function.\"\"\"\u001b[0m\u001b[1;33m\u001b[0m\u001b[0m\n",
      "\u001b[1;31mTclError\u001b[0m: invalid command name \".!canvas\""
     ]
    }
   ],
   "source": [
    "import turtle\n",
    "\n",
    "def drawTriangle(points,color,myTurtle):\n",
    "    myTurtle.fillcolor(color)\n",
    "    myTurtle.up()\n",
    "    myTurtle.goto(points[0][0],points[0][1])\n",
    "    myTurtle.down()\n",
    "    myTurtle.begin_fill()\n",
    "    myTurtle.goto(points[1][0],points[1][1])\n",
    "    myTurtle.goto(points[2][0],points[2][1])\n",
    "    myTurtle.goto(points[0][0],points[0][1])\n",
    "    myTurtle.end_fill()\n",
    "\n",
    "def getMid(p1,p2):\n",
    "    return ( (p1[0]+p2[0]) / 2, (p1[1] + p2[1]) / 2)\n",
    "\n",
    "def sierpinski(points,degree,myTurtle):\n",
    "    colormap = ['blue','red','green','white','yellow',\n",
    "                'violet','orange']\n",
    "    drawTriangle(points,colormap[degree],myTurtle)\n",
    "    if degree > 0:\n",
    "        sierpinski([points[0],\n",
    "                        getMid(points[0], points[1]),\n",
    "                        getMid(points[0], points[2])],\n",
    "                   degree-1, myTurtle)\n",
    "        sierpinski([points[1],\n",
    "                        getMid(points[0], points[1]),\n",
    "                        getMid(points[1], points[2])],\n",
    "                   degree-1, myTurtle)\n",
    "        sierpinski([points[2],\n",
    "                        getMid(points[2], points[1]),\n",
    "                        getMid(points[0], points[2])],\n",
    "                   degree-1, myTurtle)\n",
    "\n",
    "def main():\n",
    "    myTurtle = turtle.Turtle()\n",
    "    myTurtle.speed(1)\n",
    "    myWin = turtle.Screen()\n",
    "    myPoints = [[-100,-50],[0,100],[100,-50]]\n",
    "    sierpinski(myPoints,5,myTurtle)\n",
    "    myWin.exitonclick()\n",
    "\n",
    "main()"
   ]
  },
  {
   "cell_type": "markdown",
   "metadata": {},
   "source": [
    "What is the time complexity?\n",
    "\n",
    "## Complex Recursive Problems\n",
    "\n",
    "*** Example: Tower of Hanoi ***\n",
    "\n",
    "* Transfer all disks from one pole to another\n",
    "* Only move one disk at a time\n",
    "* Never place a larger disk on top of a smaller one.\n",
    "\n",
    "<img src=\"figures/HonaiTower.jpg\">"
   ]
  },
  {
   "cell_type": "code",
   "execution_count": 6,
   "metadata": {},
   "outputs": [
    {
     "name": "stdout",
     "output_type": "stream",
     "text": [
      "moving disk from A to B\n",
      "moving disk from A to C\n",
      "moving disk from B to C\n",
      "moving disk from A to B\n",
      "moving disk from C to A\n",
      "moving disk from C to B\n",
      "moving disk from A to B\n"
     ]
    }
   ],
   "source": [
    "def moveDisk(fp,tp):\n",
    "    print(\"moving disk from\",fp,\"to\",tp)\n",
    "    \n",
    "def moveTower(height,fromPole, toPole, withPole):\n",
    "    if height >= 1:\n",
    "        moveTower(height-1,fromPole,withPole,toPole)\n",
    "        moveDisk(fromPole,toPole)\n",
    "        moveTower(height-1,withPole,toPole,fromPole)\n",
    "        \n",
    "moveTower(3,\"A\",\"B\",\"C\")"
   ]
  },
  {
   "cell_type": "markdown",
   "metadata": {},
   "source": [
    "What is the time complexity?\n",
    "\n",
    "## Dynamic Programming: \n",
    "\n",
    "* Solve the small problems\n",
    "* Store the solutions\n",
    "* Use those solutions for larger problems\n",
    "\n",
    "*** Example: Making change using the fewest coins ***\n",
    "\n",
    "There are 1, 5, 10, 21, and 25 cent coins. How to make a change of 63 cents with the least number of coins?\n",
    "\n",
    "* _Greedy solution:_\n",
    "\n",
    "  + Use the largest coins as many as possible, then use the second largest coins as many as possible, and so on.\n",
    "  + Result: 63 = 25+25+10+1+1+1 (6 coins)\n",
    "\n",
    "* _Recursive solution:_\n",
    "\n",
    "    ```python\n",
    "    def recMC(coinValueList,change):\n",
    "        minCoins = change\n",
    "        if change in coinValueList:\n",
    "            return 1\n",
    "        else:\n",
    "            for i in [c for c in coinValueList if c <= change]:\n",
    "                numCoins = 1 + recMC(coinValueList,change-i)\n",
    "                if numCoins < minCoins:\n",
    "                    minCoins = numCoins\n",
    "        return minCoins\n",
    "\n",
    "    print(recMC([1,5,10,25],16))    \n",
    "    ```\n",
    "  Extremely inefficient, wasting a lot of time and effort recalculating old results.\n",
    "  \n",
    "  What is the time complexity?\n",
    "\n",
    "  <img src=\"figures/recMC_tree.jpg\">\n",
    "\n",
    "*  _Dynamic Programming solution:_\n",
    "  + Start with making change for one cent.\n",
    "  + Systematically work its way up to the amount of change we require. \n",
    "\n",
    "  <img src=\"figures/dpMakeChange.jpg\">"
   ]
  },
  {
   "cell_type": "code",
   "execution_count": 7,
   "metadata": {},
   "outputs": [
    {
     "name": "stdout",
     "output_type": "stream",
     "text": [
      "Making change for 63 requires\n",
      "3 coins\n",
      "They are:\n",
      "21\n",
      "21\n",
      "21\n",
      "coinsUsed:\n",
      "[1, 1, 1, 1, 1, 5, 1, 1, 1, 1, 10, 1, 1, 1, 1, 5, 1, 1, 1, 1, 10, 21, 1, 1, 1, 25, 1, 1, 1, 1, 5, 10, 1, 1, 1, 10, 1, 1, 1, 1, 5, 10, 21, 1, 1, 10, 21, 1, 1, 1, 25, 1, 10, 1, 1, 5, 10, 1, 1, 1, 10, 1, 10, 21]\n",
      "coinCount:\n",
      "[0, 1, 2, 3, 4, 1, 2, 3, 4, 5, 1, 2, 3, 4, 5, 2, 3, 4, 5, 6, 2, 1, 2, 3, 4, 1, 2, 3, 4, 5, 2, 2, 3, 4, 5, 2, 3, 4, 5, 6, 3, 3, 2, 3, 4, 3, 2, 3, 4, 5, 2, 3, 3, 4, 5, 3, 3, 4, 5, 6, 3, 4, 4, 3]\n"
     ]
    }
   ],
   "source": [
    "def dpMakeChange(coinValueList,change,minCoins,coinsUsed):\n",
    "    for cents in range(change+1):\n",
    "        coinCount = cents\n",
    "        newCoin = 1\n",
    "        for j in [c for c in coinValueList if c <= cents]:\n",
    "            if minCoins[cents-j] + 1 < coinCount:\n",
    "                coinCount = minCoins[cents-j]+1\n",
    "                newCoin = j\n",
    "        minCoins[cents] = coinCount\n",
    "        coinsUsed[cents] = newCoin\n",
    "    return minCoins[change]\n",
    "\n",
    "def printCoins(coinsUsed,change):\n",
    "    coin = change\n",
    "    while coin > 0:\n",
    "        thisCoin = coinsUsed[coin]\n",
    "        print(thisCoin)\n",
    "        coin = coin - thisCoin\n",
    "\n",
    "def main():\n",
    "    amnt = 63\n",
    "    clist = [1,5,10,21,25]\n",
    "    coinsUsed = [0]*(amnt+1)\n",
    "    coinCount = [0]*(amnt+1)\n",
    "\n",
    "    print(\"Making change for\",amnt,\"requires\")\n",
    "    print(dpMakeChange(clist,amnt,coinCount,coinsUsed),\"coins\")\n",
    "    print(\"They are:\")\n",
    "    printCoins(coinsUsed,amnt)\n",
    "    print(\"coinsUsed:\")\n",
    "    print(coinsUsed)\n",
    "    print(\"coinCount:\")\n",
    "    print(coinCount)\n",
    "\n",
    "main()"
   ]
  },
  {
   "cell_type": "markdown",
   "metadata": {},
   "source": [
    "*** Example: Calculate Fibonacci numbers ***\n",
    "\n",
    "* _recursive solution:_"
   ]
  },
  {
   "cell_type": "code",
   "execution_count": 8,
   "metadata": {},
   "outputs": [
    {
     "name": "stdout",
     "output_type": "stream",
     "text": [
      "FB[0]=1\n",
      "FB[1]=1\n",
      "FB[2]=2\n",
      "FB[3]=3\n",
      "FB[4]=5\n",
      "FB[5]=8\n",
      "FB[6]=13\n",
      "FB[7]=21\n",
      "FB[8]=34\n",
      "FB[9]=55\n"
     ]
    }
   ],
   "source": [
    "def recFB(n):\n",
    "    if n <= 1:\n",
    "        if n == 0:\n",
    "            return 1\n",
    "        elif n == 1:\n",
    "            return 1\n",
    "        elif n < 0:\n",
    "            return 0\n",
    "    return recFB(n-1) + recFB(n-2)\n",
    "\n",
    "for k in range(10):\n",
    "    print(\"FB[%d]=%d\"%(k,recFB(k)))"
   ]
  },
  {
   "cell_type": "markdown",
   "metadata": {},
   "source": [
    "+ The time complexity is given by linear recurrence\n",
    "  $$T(n) = T(n-1) + T(n-2) + 1$$\n",
    "  $T(n)$ is lower bounded by Fibonacci numbers. In fact, later on in this lecture we will show that $T(n) \\in \\Theta \\left( \\left( \\frac{1+\\sqrt{5}}{2} \\right)^n \\right)$."
   ]
  },
  {
   "cell_type": "code",
   "execution_count": 9,
   "metadata": {},
   "outputs": [
    {
     "name": "stdout",
     "output_type": "stream",
     "text": [
      "FB[0]=1\n",
      "FB[1]=1\n",
      "FB[2]=2\n",
      "FB[3]=3\n",
      "FB[4]=5\n",
      "FB[5]=8\n",
      "FB[6]=13\n",
      "FB[7]=21\n",
      "FB[8]=34\n",
      "FB[9]=55\n"
     ]
    }
   ],
   "source": [
    "def dpFB(FB_list,n):\n",
    "    FB_list[0] = 1\n",
    "    FB_list[1] = 1\n",
    "    for m in range(2,n+1):\n",
    "        FB_list[m] = FB_list[m-1] + FB_list[m-2]\n",
    "    return FB_list[n]\n",
    "\n",
    "FB_list = [0]*10\n",
    "for k in range(10):\n",
    "    print(\"FB[%d]=%d\"%(k,dpFB(FB_list,k)))"
   ]
  },
  {
   "cell_type": "markdown",
   "metadata": {
    "collapsed": true
   },
   "source": [
    "  +  Time complexity $T(n) \\in O(n)$.\n",
    "\n",
    "## Analytical Solutions to Recurrsions\n",
    "\n",
    "Goal: Solve the linear recurrence\n",
    "$$a_n = \\lambda_1 a_{n-1} + ... + \\lambda_k a_{n-k} + p_n,  ~~ n \\geq k$$\n",
    "\n",
    "* If $|p_n| \\leq r_0^n$, then there exists $r > 0$ such that \n",
    "$$|a_n| < r^n, ~~ \\forall n \\geq 1$$\n",
    "\n",
    "  Proof: Take $r > 1$ such that $r > \\max\\{|a_m|^{\\frac{1}{m}}: m = 1,...,k\\}$, and $r > r_0 + |\\lambda_1|+...+|\\lambda_k|$.\n",
    "    + For all $m=1,...,k$, since $r > |a_m|^{\\frac{1}{m}}$, one has $|a_m| < r^m$.\n",
    "    + Suppose $|a_m| < r^m$ for all $m = 1,...,n-1$, where $n > k$. Then\n",
    "        \n",
    "    $$\n",
    "    \\begin{aligned}\n",
    "    |a_n| & \\leq |\\lambda_1| |a_{n-1}| + ... + |\\lambda_k| |a_{n-k}| + |p_n|\\\\\n",
    "          & \\leq |\\lambda_1| r^{n-1} + ... + |\\lambda_k| r^{n-k} + r_0^n \\\\\n",
    "          & \\leq r^{n-1}(|\\lambda_1|+...+|\\lambda_k|+r_0) < r^n\n",
    "    \\end{aligned}\n",
    "    $$\n",
    "    + By mathematical induction, $|a_m| < r^m$ for all $m \\geq 1$.\n",
    "* Since $|a_n| < r^n$ for all $n \\geq 1$, one may define $A(z) = \\sum_{n=0}^\\infty a_n z^{-n}$, which absolutely converges on $|z|>r$.\n",
    "* Multiply both sides of the recursion with $z^{-n}$ and sum up, one has\n",
    "  $$ \n",
    "  \\begin{aligned}\n",
    "  \\lim_{N \\rightarrow \\infty} \\sum_{n=k}^N a_n z^{-n} \n",
    "  & = \\lim_{N \\rightarrow \\infty} \\sum_{n=k}^N \\left( \\lambda_1 a_{n-1} + ... + \\lambda_k a_{n-k} + p_n \\right) z^{-n} \\\\\n",
    "  & = \\lim_{N \\rightarrow \\infty} \\left[ \\lambda_1 z^{-1} \\left( \\sum_{n=k}^N a_{n-1}z^{-(n-1)} \\right) + ... + \\lambda_k z^{-k} \\left( \\sum_{n=k}^N a_{n-k}z^{-(n-k)} \\right) + \\sum_{n=k}^N p_n z^{-n} \\right]\n",
    "  \\end{aligned}\n",
    "  $$  \n",
    "  Define $P(z) = \\sum_{n=0}^\\infty p_n z^{-n}$, which absolutely converges on $|z| > r$, then\n",
    "  $$\n",
    "  \\begin{aligned}\n",
    "  A(z) - \\left( a_0 + ... + a_{k-1}z^{-(k-1)} \\right)\n",
    "  = \\lambda_1 z^{-1}     & \\left[ A(z)- \\left( a_0 + ... + a_{k-3}z^{-(k-3)} + a_{k-2}z^{-(k-2)} \\right) \\right] + \\\\\n",
    "    \\lambda_2 z^{-2}   & \\left[ A(z)- \\left( a_0 + ... + a_{k-3}z^{-(k-3)} \\right) \\right] + ... + \\\\\n",
    "    \\lambda_{k-1}z^{-(k-1)} & \\left[ A(z)- \\left( a_0 \\right) \\right] + \\\\\n",
    "    \\lambda_k z^{-k} & \\left[ A(z) \\right] + \\\\\n",
    "    & P(z) - \\left( p_0 + ... + p_{k-1}z^{-(k-1)} \\right)\n",
    "  \\end{aligned}\n",
    "  $$\n",
    "  Therefore\n",
    "  $$\n",
    "  \\begin{aligned}\n",
    "  \\left( 1-\\lambda_1 z^{-1} - ... - \\lambda_k z^{-k} \\right)A(z)\n",
    "  = & a_0 + (a_1 - \\lambda_1 a_0)z^{-1} + (a_2 - \\lambda_1 a_1 - \\lambda_2 a_0) z^{-2} + ... + (a_{k-1}-\\lambda_1 a^{k-2}-...-\\lambda_{k-1}a_0) z^{-(k-1)} \\\\\n",
    "    & + P(z) - \\left( p_0 + ... + p_{k-1}z^{-(k-1)} \\right) \\\\\n",
    "  = & Q(z)  \n",
    "  \\end{aligned}\n",
    "  $$\n",
    "* We solve $A(z)$ as follows:\n",
    "  $$A(z) = \\frac{Q(z)}{1-\\lambda_1 z^{-1} - ... - \\lambda_k z^{-k}}, ~~ |z| > r$$\n",
    "* Suppose $A(z)$ can be further expressed in the following form\n",
    "  $$A(z) = \\sum_{m=1}^\\ell \\frac{\\alpha_m}{(1-z_m z^{-1})^{d_m}} = \\sum_{m=1}^\\ell \\alpha_m \\sum_{n=0}^\\infty C_{d_m-1}^{d_m+n-1} (z_m)^n z^{-n} = \\sum_{n=0}^\\infty \\left( \\sum_{m=1}^\\ell \\alpha_m C_{d_m-1}^{d_m+n-1} (z_m)^n \\right) z^{-n}$$\n",
    "* Compare the coefficients, one arrives at\n",
    "  $$a_n = \\sum_{m=1}^\\ell \\alpha_m C_{d_m-1}^{d_m+n-1} (z_m)^n \\in O\\left( \\sum_{m=1}^\\ell n^{d_m-1} |z_m|^n \\right)$$"
   ]
  },
  {
   "cell_type": "code",
   "execution_count": null,
   "metadata": {},
   "outputs": [],
   "source": []
  }
 ],
 "metadata": {
  "kernelspec": {
   "display_name": "Python 3",
   "language": "python",
   "name": "python3"
  },
  "language_info": {
   "codemirror_mode": {
    "name": "ipython",
    "version": 3
   },
   "file_extension": ".py",
   "mimetype": "text/x-python",
   "name": "python",
   "nbconvert_exporter": "python",
   "pygments_lexer": "ipython3",
   "version": "3.7.0"
  }
 },
 "nbformat": 4,
 "nbformat_minor": 2
}
